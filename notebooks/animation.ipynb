{
 "cells": [
  {
   "cell_type": "markdown",
   "metadata": {},
   "source": [
    "# Creating animations from DANRA\n",
    "\n",
    "Updated: 2024-02-29, Leif Denby (lcd@dmi.dk)\n",
    "\n",
    "This notebook is an example of how you can easily create animations from DANRA data"
   ]
  },
  {
   "cell_type": "code",
   "execution_count": 1,
   "metadata": {},
   "outputs": [],
   "source": [
    "import matplotlib.pyplot as plt\n",
    "import numpy as np\n",
    "import cartopy.crs as ccrs\n",
    "import io\n",
    "import imageio.v2 as imageio\n",
    "from tqdm import tqdm\n",
    "\n",
    "from pathlib import Path\n",
    "import xarray as xr"
   ]
  },
  {
   "cell_type": "code",
   "execution_count": 2,
   "metadata": {},
   "outputs": [],
   "source": [
    "version = \"v0.3.0\"\n",
    "# path to copies of processed DANRA datasets on scale.dmi.dk:\n",
    "# fp_root = Path(f\"/dmidata/projects/cloudphysics/danra/data/{version}\")\n",
    "# path on ohm.dmi.dk where the files where processed:\n",
    "fp_root = Path(f\"/nwp/danra/data/{version}\")"
   ]
  },
  {
   "cell_type": "code",
   "execution_count": 3,
   "metadata": {},
   "outputs": [],
   "source": [
    "ds_sl = xr.open_zarr(fp_root / \"single_levels.zarr\")"
   ]
  },
  {
   "cell_type": "code",
   "execution_count": 4,
   "metadata": {},
   "outputs": [],
   "source": [
    "ds = ds_sl\n",
    "# let's add a 2m temperature in celcius to work with\n",
    "ds[\"t2m_celcius\"] = ds.t2m - 273.15\n",
    "ds.t2m_celcius.attrs[\"units\"] = \"C\"\n",
    "ds.t2m_celcius.attrs[\"long_name\"] = ds.t2m.long_name"
   ]
  },
  {
   "cell_type": "code",
   "execution_count": 8,
   "metadata": {},
   "outputs": [
    {
     "name": "stderr",
     "output_type": "stream",
     "text": [
      "100%|██████████| 25/25 [00:39<00:00,  1.57s/it]\n"
     ]
    }
   ],
   "source": [
    "temp_max = 30.0\n",
    "tmin = ds.time.isel(time=0)\n",
    "tmax = tmin + np.timedelta64(365, \"D\")\n",
    "DATE_FORMAT = \"%Y%m%d\"\n",
    "writer = imageio.get_writer(f'DANRA_t2m_{tmin.dt.strftime(DATE_FORMAT).item()}-{tmax.dt.strftime(DATE_FORMAT).item()}.mp4', fps=10)\n",
    "\n",
    "import datetime\n",
    "\n",
    "# Example: Generate 10 frames\n",
    "da = ds.t2m_celcius.sel(time=slice(tmin, tmax))\n",
    "da.attrs[\"long_name\"] = f\"2m {da.long_name}\"\n",
    "for i in tqdm(list(range(int(da.time.count())))):\n",
    "    # Create a figure\n",
    "    fig, ax = plt.subplots(figsize=(10, 4), subplot_kw=dict(projection=ccrs.PlateCarree()))\n",
    "    da_sample = da.isel(time=i)\n",
    "    da_sample.plot(ax=ax, x=\"lon\", y=\"lat\", transform=ccrs.PlateCarree(), vmax=temp_max, center=0.0, cmap=\"RdBu_r\", extend=\"both\")\n",
    "    ax.gridlines(draw_labels=[\"top\", \"left\"])\n",
    "    ax.coastlines()\n",
    "    \n",
    "    t = da_sample.time.data.astype(\"datetime64[s]\").astype(datetime.datetime).item()\n",
    "\n",
    "    ax.set_title(t.isoformat())\n",
    "    fig.tight_layout()\n",
    "    \n",
    "    # Use io.BytesIO as a buffer\n",
    "    buf = io.BytesIO()\n",
    "    plt.savefig(buf, format='png', dpi=400)  # Save figure to the buffer\n",
    "    buf.seek(0)  # Move to the beginning of the buffer\n",
    "    \n",
    "    # Read the buffer's content as an image\n",
    "    image = imageio.imread(buf)\n",
    "    \n",
    "    # Add image to the writer (i.e., to the animation)\n",
    "    writer.append_data(image)\n",
    "    \n",
    "    # Close the figure to prevent it from being displayed\n",
    "    plt.close(fig)\n",
    "\n",
    "writer.close()"
   ]
  },
  {
   "cell_type": "code",
   "execution_count": 7,
   "metadata": {},
   "outputs": [],
   "source": [
    "writer.close()"
   ]
  },
  {
   "cell_type": "code",
   "execution_count": null,
   "metadata": {},
   "outputs": [],
   "source": []
  }
 ],
 "metadata": {
  "kernelspec": {
   "display_name": ".venv",
   "language": "python",
   "name": "python3"
  },
  "language_info": {
   "codemirror_mode": {
    "name": "ipython",
    "version": 3
   },
   "file_extension": ".py",
   "mimetype": "text/x-python",
   "name": "python",
   "nbconvert_exporter": "python",
   "pygments_lexer": "ipython3",
   "version": "3.10.13"
  }
 },
 "nbformat": 4,
 "nbformat_minor": 2
}
